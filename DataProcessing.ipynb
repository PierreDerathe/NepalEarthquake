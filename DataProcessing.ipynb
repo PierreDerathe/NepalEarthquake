{
 "cells": [
  {
   "cell_type": "markdown",
   "id": "4584c5c0",
   "metadata": {},
   "source": [
    "# Nepal Earthquake"
   ]
  },
  {
   "cell_type": "markdown",
   "id": "085a04d6",
   "metadata": {},
   "source": [
    "From: [Kaggle Nepal Earthquake](https://www.kaggle.com/datasets/imtkaggleteam/nepal-earthquake)"
   ]
  },
  {
   "cell_type": "markdown",
   "id": "361a2277",
   "metadata": {},
   "source": [
    "### Context\n",
    "The Nepal Earthquake Severity Index is designed to provide an overview of estimated severity of impacts resulting from the earthquake of 25 April 2015. It is not a replacement for first hand damage and needs assessment information, but can support prioritisation during early stages of the response. It estimates severity based on: 1) the intensity of the earthquake; 2) population; 3) vulnerability of housing and population. This index will be updated to take account of: validation against first hand reports and improvements to the severity model; improved sources of data (quality, timeliness and scale); changing requirements as the response continues. "
   ]
  },
  {
   "cell_type": "code",
   "execution_count": null,
   "id": "cddd62d1",
   "metadata": {},
   "outputs": [],
   "source": [
    "import platform\n",
    "from pathlib import Path\n",
    "\n",
    "import matplotlib.pyplot as plt\n",
    "import numpy as np\n",
    "import pandas as pd\n",
    "import plotly\n",
    "import plotly.express as px\n",
    "import seaborn as sns\n",
    "import sklearn\n",
    "from sklearn import datasets, decomposition, metrics, preprocessing, utils\n",
    "from sklearn.linear_model import LinearRegression\n",
    "from sklearn.model_selection import train_test_split\n",
    "from sklearn.neighbors import KNeighborsRegressor\n",
    "from sklearn.tree import DecisionTreeRegressor, plot_tree\n",
    "from tqdm.notebook import tqdm"
   ]
  },
  {
   "cell_type": "markdown",
   "id": "e065ebe7",
   "metadata": {},
   "source": [
    "### Data"
   ]
  },
  {
   "cell_type": "code",
   "execution_count": null,
   "id": "0862d188",
   "metadata": {},
   "outputs": [],
   "source": [
    "%config InlineBackend.figure_format=\"retina\"  # For high DPI display\n",
    "\n",
    "sns.set_style(\"darkgrid\")\n",
    "sns.set_context(\"notebook\")\n",
    "\n",
    "plotly.offline.init_notebook_mode(connected=True)\n",
    "\n",
    "tqdm.pandas()\n",
    "\n",
    "print(sklearn.__version__)  # Version tested on sklearn.__version__ == 1.3.x"
   ]
  },
  {
   "cell_type": "markdown",
   "id": "cd22f960",
   "metadata": {},
   "source": [
    "### Utility Functions"
   ]
  },
  {
   "cell_type": "code",
   "execution_count": null,
   "id": "a2e79217",
   "metadata": {},
   "outputs": [],
   "source": [
    "def pprint_var(**kwargs):\n",
    "    for k, v in kwargs.items():\n",
    "        print(f\"{k} = {v:.4g}\")"
   ]
  },
  {
   "cell_type": "markdown",
   "id": "01a5067b",
   "metadata": {},
   "source": [
    "#### Data loading"
   ]
  },
  {
   "cell_type": "code",
   "execution_count": null,
   "id": "bbf1a7b1",
   "metadata": {},
   "outputs": [],
   "source": [
    "DATA = Path(\"data\")    # Change to your data folder\n",
    "assert DATA.exists()"
   ]
  },
  {
   "cell_type": "code",
   "execution_count": null,
   "id": "eb087089",
   "metadata": {},
   "outputs": [],
   "source": [
    "eq_raw_df = pd.read_csv(DATA / \"nepal-earthquake-severity-index-latest.csv\", \n",
    "                        low_memory=False)"
   ]
  },
  {
   "cell_type": "code",
   "execution_count": null,
   "id": "d9153a22",
   "metadata": {},
   "outputs": [],
   "source": [
    "eq_raw_df"
   ]
  },
  {
   "cell_type": "code",
   "execution_count": null,
   "metadata": {},
   "outputs": [],
   "source": []
  }
 ],
 "metadata": {
  "kernelspec": {
   "display_name": "Python 3 (ipykernel)",
   "language": "python",
   "name": "python3"
  },
  "language_info": {
   "codemirror_mode": {
    "name": "ipython",
    "version": 3
   },
   "file_extension": ".py",
   "mimetype": "text/x-python",
   "name": "python",
   "nbconvert_exporter": "python",
   "pygments_lexer": "ipython3",
   "version": "3.10.12"
  }
 },
 "nbformat": 4,
 "nbformat_minor": 5
}
